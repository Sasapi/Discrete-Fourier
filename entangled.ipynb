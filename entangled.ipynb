{
 "cells": [
  {
   "cell_type": "code",
   "execution_count": null,
   "metadata": {},
   "outputs": [],
   "source": [
    "#\n",
    "# from qiskit import QuantumCircuit, ClassicalRegister, QuantumRegister\n",
    "# from qiskit.wrapper import available_backends, execute\n",
    "from qiskit import QuantumProgram\n",
    "\n",
    "Q_program = QuantumProgram()\n",
    "# QX_TOKEN = \"API_TOKEN\"\n",
    "QX_TOKEN = \"968b66135e98d2572bf95183500225f099ef431de374c0dd724fa1225cf87057e8f28280ce74395dc16d1c3e2459e6a8afee32572e6711f816f7d539bdec982f\"\n",
    "QX_URL = \"https://quantumexperience.ng.bluemix.net/api\"\n",
    "QX_HUB = \"Sasapi_HUB\"\n",
    "QX_GROUP = \"Sasapi_GROUP\"\n",
    "QX_PROJECT = \"Sasapi_PJ\"\n",
    "Q_program.set_api(QX_TOKEN, QX_URL,\n",
    "                  hub=QX_HUB,\n",
    "                  group=QX_GROUP,\n",
    "                  project=QX_PROJECT)\n",
    "\n",
    "# q = QuantumRegister(2)\n",
    "q = Q_program.create_quantum_register(\"q\", 2)\n",
    "# c = ClassicalRegister(2)\n",
    "c = Q_program.create_classical_register(\"c\", 2)\n",
    "# qc = QuantumCircuit(q, c)\n",
    "qc = Q_program.create_circuit(\"superposition\", [q], [c])\n",
    "\n",
    "qc.h(q[0])\n",
    "qc.cx(q[0], q[1])\n",
    "qc.measure(q, c)\n",
    "\n",
    "# print(\"Local backends: \", available_backends({'local': True}))\n",
    "print(\"ibmqx5 backends: \")\n",
    "# sim_result = execute(qc, 'Sasapi_simulator')\n",
    "result = Q_program.execute([\"superposition\"], backend='ibmqx4', shots=1024)\n",
    "\n",
    "# print(\"simulation: \", sim_result)\n",
    "print(\"simulation: \", result)\n",
    "# print(sim_result.get_counts(qc)\n",
    "print(result.get_data(\"superposition\"))\n"
   ]
  }
 ],
 "metadata": {
  "kernelspec": {
   "display_name": "Python 3",
   "language": "python",
   "name": "python3"
  },
  "language_info": {
   "codemirror_mode": {
    "name": "ipython",
    "version": 3
   },
   "file_extension": ".py",
   "mimetype": "text/x-python",
   "name": "python",
   "nbconvert_exporter": "python",
   "pygments_lexer": "ipython3",
   "version": "3.6.4"
  }
 },
 "nbformat": 4,
 "nbformat_minor": 2
}
